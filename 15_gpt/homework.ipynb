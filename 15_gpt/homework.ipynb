{
 "cells": [
  {
   "cell_type": "code",
   "execution_count": 1,
   "metadata": {},
   "outputs": [],
   "source": [
    "import torch\n",
    "import torch.nn as nn\n",
    "import torchvision.datasets as datasets\n",
    "import torchvision.transforms as transforms\n",
    "import random\n",
    "\n",
    "batch_size = 64\n",
    "num_epochs = 10\n",
    "\n",
    "transform = transforms.Compose([transforms.ToTensor(), transforms.Normalize((0.1307,), (0.3081,))])\n",
    "\n",
    "train_dataset = datasets.MNIST(root='data', train=True, download=True, transform=transform)\n",
    "test_dataset = datasets.MNIST(root='data', train=False, download=True, transform=transform)\n",
    "\n",
    "train_loader = torch.utils.data.DataLoader(dataset=train_dataset, batch_size=batch_size, shuffle=True)\n",
    "test_loader = torch.utils.data.DataLoader(dataset=test_dataset, batch_size=batch_size, shuffle=False)\n"
   ]
  },
  {
   "cell_type": "code",
   "execution_count": 2,
   "metadata": {},
   "outputs": [],
   "source": [
    "class CNNNet(nn.Module):\n",
    "    def __init__(self, num_classes=10):\n",
    "        super(CNNNet, self).__init__()\n",
    "        self.features = nn.Sequential(\n",
    "            nn.Conv2d(1, 32, kernel_size=3, padding=1),\n",
    "            nn.ReLU(),\n",
    "            nn.MaxPool2d(kernel_size=2, stride=2),\n",
    "            nn.Conv2d(32, 64, kernel_size=3, padding=1),\n",
    "            nn.ReLU(),\n",
    "            nn.MaxPool2d(kernel_size=2, stride=2)\n",
    "        )\n",
    "        self.avgpool = nn.AdaptiveAvgPool2d((7, 7))\n",
    "        self.classifier = nn.Sequential(\n",
    "            nn.Dropout(),\n",
    "            nn.Linear(64 * 7 * 7, 128),\n",
    "            nn.ReLU(),\n",
    "            nn.Dropout(),\n",
    "            nn.Linear(128, num_classes)\n",
    "        )\n",
    "\n",
    "    def forward(self, x):\n",
    "        x = self.features(x)\n",
    "        x = self.avgpool(x)\n",
    "        x = torch.flatten(x, 1)\n",
    "        x = self.classifier(x)\n",
    "        return x"
   ]
  },
  {
   "cell_type": "code",
   "execution_count": 3,
   "metadata": {},
   "outputs": [],
   "source": [
    "model = CNNNet()\n",
    "criterion = nn.CrossEntropyLoss()\n",
    "optimizer = torch.optim.Adam(model.parameters(), lr=0.001)"
   ]
  },
  {
   "cell_type": "code",
   "execution_count": 4,
   "metadata": {},
   "outputs": [
    {
     "name": "stdout",
     "output_type": "stream",
     "text": [
      "Epoch [1/10], Step [100/938], Loss: 0.3228\n",
      "Epoch [1/10], Step [200/938], Loss: 0.2532\n",
      "Epoch [1/10], Step [300/938], Loss: 0.3047\n",
      "Epoch [1/10], Step [400/938], Loss: 0.1252\n",
      "Epoch [1/10], Step [500/938], Loss: 0.0696\n",
      "Epoch [1/10], Step [600/938], Loss: 0.2188\n",
      "Epoch [1/10], Step [700/938], Loss: 0.1911\n",
      "Epoch [1/10], Step [800/938], Loss: 0.0737\n",
      "Epoch [1/10], Step [900/938], Loss: 0.2830\n",
      "Epoch [1/10], Validation Loss: 0.0510, Validation Accuracy: 98.31%\n",
      "Epoch [2/10], Step [100/938], Loss: 0.2112\n",
      "Epoch [2/10], Step [200/938], Loss: 0.0447\n",
      "Epoch [2/10], Step [300/938], Loss: 0.0893\n",
      "Epoch [2/10], Step [400/938], Loss: 0.0598\n",
      "Epoch [2/10], Step [500/938], Loss: 0.0397\n",
      "Epoch [2/10], Step [600/938], Loss: 0.0942\n",
      "Epoch [2/10], Step [700/938], Loss: 0.0681\n",
      "Epoch [2/10], Step [800/938], Loss: 0.0836\n",
      "Epoch [2/10], Step [900/938], Loss: 0.0524\n",
      "Epoch [2/10], Validation Loss: 0.0348, Validation Accuracy: 98.86%\n",
      "Epoch [3/10], Step [100/938], Loss: 0.0826\n",
      "Epoch [3/10], Step [200/938], Loss: 0.0464\n",
      "Epoch [3/10], Step [300/938], Loss: 0.0295\n",
      "Epoch [3/10], Step [400/938], Loss: 0.0621\n",
      "Epoch [3/10], Step [500/938], Loss: 0.0740\n",
      "Epoch [3/10], Step [600/938], Loss: 0.1092\n",
      "Epoch [3/10], Step [700/938], Loss: 0.0239\n",
      "Epoch [3/10], Step [800/938], Loss: 0.0458\n",
      "Epoch [3/10], Step [900/938], Loss: 0.2286\n",
      "Epoch [3/10], Validation Loss: 0.0300, Validation Accuracy: 99.04%\n",
      "Epoch [4/10], Step [100/938], Loss: 0.0315\n",
      "Epoch [4/10], Step [200/938], Loss: 0.1606\n",
      "Epoch [4/10], Step [300/938], Loss: 0.1013\n",
      "Epoch [4/10], Step [400/938], Loss: 0.1097\n",
      "Epoch [4/10], Step [500/938], Loss: 0.0770\n",
      "Epoch [4/10], Step [600/938], Loss: 0.0576\n",
      "Epoch [4/10], Step [700/938], Loss: 0.0982\n",
      "Epoch [4/10], Step [800/938], Loss: 0.1817\n",
      "Epoch [4/10], Step [900/938], Loss: 0.0716\n",
      "Epoch [4/10], Validation Loss: 0.0292, Validation Accuracy: 98.99%\n",
      "Epoch [5/10], Step [100/938], Loss: 0.0598\n",
      "Epoch [5/10], Step [200/938], Loss: 0.0626\n",
      "Epoch [5/10], Step [300/938], Loss: 0.0141\n",
      "Epoch [5/10], Step [400/938], Loss: 0.0569\n",
      "Epoch [5/10], Step [500/938], Loss: 0.0316\n",
      "Epoch [5/10], Step [600/938], Loss: 0.0134\n",
      "Epoch [5/10], Step [700/938], Loss: 0.3132\n",
      "Epoch [5/10], Step [800/938], Loss: 0.0358\n",
      "Epoch [5/10], Step [900/938], Loss: 0.0078\n",
      "Epoch [5/10], Validation Loss: 0.0250, Validation Accuracy: 99.18%\n",
      "Epoch [6/10], Step [100/938], Loss: 0.0072\n",
      "Epoch [6/10], Step [200/938], Loss: 0.1128\n",
      "Epoch [6/10], Step [300/938], Loss: 0.0818\n",
      "Epoch [6/10], Step [400/938], Loss: 0.0329\n",
      "Epoch [6/10], Step [500/938], Loss: 0.0780\n",
      "Epoch [6/10], Step [600/938], Loss: 0.0209\n",
      "Epoch [6/10], Step [700/938], Loss: 0.1251\n",
      "Epoch [6/10], Step [800/938], Loss: 0.0326\n",
      "Epoch [6/10], Step [900/938], Loss: 0.1355\n",
      "Epoch [6/10], Validation Loss: 0.0240, Validation Accuracy: 99.25%\n",
      "Epoch [7/10], Step [100/938], Loss: 0.0186\n",
      "Epoch [7/10], Step [200/938], Loss: 0.0845\n",
      "Epoch [7/10], Step [300/938], Loss: 0.0738\n",
      "Epoch [7/10], Step [400/938], Loss: 0.0345\n",
      "Epoch [7/10], Step [500/938], Loss: 0.0250\n",
      "Epoch [7/10], Step [600/938], Loss: 0.0828\n",
      "Epoch [7/10], Step [700/938], Loss: 0.0014\n",
      "Epoch [7/10], Step [800/938], Loss: 0.1204\n",
      "Epoch [7/10], Step [900/938], Loss: 0.0063\n",
      "Epoch [7/10], Validation Loss: 0.0262, Validation Accuracy: 99.11%\n",
      "Epoch [8/10], Step [100/938], Loss: 0.0058\n",
      "Epoch [8/10], Step [200/938], Loss: 0.0351\n",
      "Epoch [8/10], Step [300/938], Loss: 0.0480\n",
      "Epoch [8/10], Step [400/938], Loss: 0.0422\n",
      "Epoch [8/10], Step [500/938], Loss: 0.0365\n",
      "Epoch [8/10], Step [600/938], Loss: 0.0520\n",
      "Epoch [8/10], Step [700/938], Loss: 0.0128\n",
      "Epoch [8/10], Step [800/938], Loss: 0.0033\n",
      "Epoch [8/10], Step [900/938], Loss: 0.0027\n",
      "Epoch [8/10], Validation Loss: 0.0241, Validation Accuracy: 99.17%\n",
      "Epoch [9/10], Step [100/938], Loss: 0.1267\n",
      "Epoch [9/10], Step [200/938], Loss: 0.0380\n",
      "Epoch [9/10], Step [300/938], Loss: 0.0099\n",
      "Epoch [9/10], Step [400/938], Loss: 0.0372\n",
      "Epoch [9/10], Step [500/938], Loss: 0.0475\n",
      "Epoch [9/10], Step [600/938], Loss: 0.0246\n",
      "Epoch [9/10], Step [700/938], Loss: 0.0527\n",
      "Epoch [9/10], Step [800/938], Loss: 0.0405\n",
      "Epoch [9/10], Step [900/938], Loss: 0.0520\n",
      "Epoch [9/10], Validation Loss: 0.0220, Validation Accuracy: 99.25%\n",
      "Epoch [10/10], Step [100/938], Loss: 0.0015\n",
      "Epoch [10/10], Step [200/938], Loss: 0.0118\n",
      "Epoch [10/10], Step [300/938], Loss: 0.0790\n",
      "Epoch [10/10], Step [400/938], Loss: 0.0420\n",
      "Epoch [10/10], Step [500/938], Loss: 0.0203\n",
      "Epoch [10/10], Step [600/938], Loss: 0.0160\n",
      "Epoch [10/10], Step [700/938], Loss: 0.0261\n",
      "Epoch [10/10], Step [800/938], Loss: 0.0402\n",
      "Epoch [10/10], Step [900/938], Loss: 0.0212\n",
      "Epoch [10/10], Validation Loss: 0.0203, Validation Accuracy: 99.40%\n"
     ]
    }
   ],
   "source": [
    "for epoch in range(num_epochs):\n",
    "    for i, (images, labels) in enumerate(train_loader):\n",
    "        outputs = model(images)\n",
    "        loss = criterion(outputs, labels)\n",
    "        optimizer.zero_grad()\n",
    "        loss.backward()\n",
    "        optimizer.step()\n",
    "        if (i + 1) % 100 == 0:\n",
    "            print('Epoch [{}/{}], Step [{}/{}], Loss: {:.4f}'.format(epoch + 1, num_epochs, i + 1, len(train_loader), loss.item()))\n",
    "\n",
    "    model.eval()\n",
    "    with torch.no_grad():\n",
    "        correct = 0\n",
    "        total = 0\n",
    "        val_loss = 0\n",
    "        for images, labels in test_loader:\n",
    "            outputs = model(images)\n",
    "            loss = criterion(outputs, labels)\n",
    "            val_loss += loss.item()\n",
    "            _, predicted = torch.max(outputs.data, 1)\n",
    "            total += labels.size(0)\n",
    "            correct += (predicted == labels).sum().item()\n",
    "\n",
    "        val_accuracy = 100 * correct / total\n",
    "        val_loss /= len(test_loader)\n",
    "        print('Epoch [{}/{}], Validation Loss: {:.4f}, Validation Accuracy: {:.2f}%'.format(epoch + 1, num_epochs, val_loss, val_accuracy))\n",
    "\n",
    "    model.train()"
   ]
  },
  {
   "cell_type": "code",
   "execution_count": 5,
   "metadata": {},
   "outputs": [
    {
     "name": "stdout",
     "output_type": "stream",
     "text": [
      "Test Accuracy of the model on the 10000 test images: 99.4 %\n"
     ]
    }
   ],
   "source": [
    "model.eval()\n",
    "with torch.no_grad():\n",
    "    correct = 0\n",
    "    total = 0\n",
    "    for images, labels in test_loader:\n",
    "        outputs = model(images)\n",
    "        _, predicted = torch.max(outputs.data, 1)\n",
    "        total += labels.size(0)\n",
    "        correct += (predicted == labels).sum().item()\n",
    "\n",
    "    print('Test Accuracy of the model on the 10000 test images: {} %'.format(100 * correct / total))"
   ]
  },
  {
   "cell_type": "code",
   "execution_count": 8,
   "metadata": {},
   "outputs": [
    {
     "data": {
      "image/png": "[encoded data removed]",
      "text/plain": [
       "<Figure size 360x360 with 1 Axes>"
      ]
     },
     "metadata": {
      "needs_background": "light"
     },
     "output_type": "display_data"
    }
   ],
   "source": [
    "import matplotlib.pyplot as plt\n",
    "image, label = test_dataset[random.randint(0, len(test_dataset))]\n",
    "model.eval()\n",
    "with torch.no_grad():\n",
    "    output = model(image.unsqueeze(0))\n",
    "    _, predicted = torch.max(output.data, 1)\n",
    "\n",
    "plt.figure(figsize=(5,5))\n",
    "plt.imshow(image.squeeze(), cmap='gray_r')\n",
    "plt.title(f\"Prediction: {predicted.item()}\")\n",
    "plt.axis('off')\n",
    "plt.show()"
   ]
  },
  {
   "cell_type": "code",
   "execution_count": null,
   "metadata": {},
   "outputs": [],
   "source": [
    "s"
   ]
  }
 ],
 "metadata": {
  "colab": {
   "collapsed_sections": [],
   "name": "CNN.ipynb",
   "provenance": []
  },
  "kernelspec": {
   "display_name": "Python 3 (ipykernel)",
   "language": "python",
   "name": "python3"
  },
  "language_info": {
   "codemirror_mode": {
    "name": "ipython",
    "version": 3
   },
   "file_extension": ".py",
   "mimetype": "text/x-python",
   "name": "python",
   "nbconvert_exporter": "python",
   "pygments_lexer": "ipython3",
   "version": "3.12.3"
  },
  "nbTranslate": {
   "displayLangs": [
    "*"
   ],
   "hotkey": "alt-t",
   "langInMainMenu": true,
   "sourceLang": "en",
   "targetLang": "fr",
   "useGoogleTranslate": true
  }
 },
 "nbformat": 4,
 "nbformat_minor": 4
}
